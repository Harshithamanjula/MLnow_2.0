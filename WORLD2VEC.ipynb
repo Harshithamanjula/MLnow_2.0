{
  "nbformat": 4,
  "nbformat_minor": 0,
  "metadata": {
    "colab": {
      "name": "WORLD2VEC.ipynb",
      "provenance": [],
      "authorship_tag": "ABX9TyO20cn1392dIiWItzw/dgeY",
      "include_colab_link": true
    },
    "kernelspec": {
      "name": "python3",
      "display_name": "Python 3"
    },
    "language_info": {
      "name": "python"
    }
  },
  "cells": [
    {
      "cell_type": "markdown",
      "metadata": {
        "id": "view-in-github",
        "colab_type": "text"
      },
      "source": [
        "<a href=\"https://colab.research.google.com/github/Harshithamanjula/MLnow_2.0/blob/main/WORLD2VEC.ipynb\" target=\"_parent\"><img src=\"https://colab.research.google.com/assets/colab-badge.svg\" alt=\"Open In Colab\"/></a>"
      ]
    },
    {
      "cell_type": "code",
      "metadata": {
        "id": "wtcZ1HzuA33o"
      },
      "source": [
        "import nltk"
      ],
      "execution_count": 1,
      "outputs": []
    },
    {
      "cell_type": "code",
      "metadata": {
        "id": "Np7QwvGvBCDe"
      },
      "source": [
        "from gensim.models import Word2Vec\n",
        "from nltk.corpus import stopwords"
      ],
      "execution_count": 2,
      "outputs": []
    },
    {
      "cell_type": "code",
      "metadata": {
        "id": "k99prr57BFd_"
      },
      "source": [
        "import re"
      ],
      "execution_count": 3,
      "outputs": []
    },
    {
      "cell_type": "code",
      "metadata": {
        "id": "O5faKCJGBI1v"
      },
      "source": [
        "paragraph = \"\"\"I have three visions for India. In 3000 years of our history, people from all over \n",
        "               the world have come and invaded us, captured our lands, conquered our minds. \n",
        "               From Alexander onwards, the Greeks, the Turks, the Moguls, the Portuguese, the British,\n",
        "               the French, the Dutch, all of them came and looted us, took over what was ours. \n",
        "               Yet we have not done this to any other nation. We have not conquered anyone. \n",
        "               We have not grabbed their land, their culture, \n",
        "               their history and tried to enforce our way of life on them. \n",
        "               Why? Because we respect the freedom of others.That is why my \n",
        "               first vision is that of freedom. I believe that India got its first vision of \n",
        "               this in 1857, when we started the War of Independence. It is this freedom that\n",
        "               we must protect and nurture and build on. If we are not free, no one will respect us.\n",
        "               My second vision for India’s development. For fifty years we have been a developing nation.\n",
        "               It is time we see ourselves as a developed nation. We are among the top 5 nations of the world\n",
        "               in terms of GDP. We have a 10 percent growth rate in most areas. Our poverty levels are falling.\n",
        "               Our achievements are being globally recognised today. Yet we lack the self-confidence to\n",
        "               see ourselves as a developed nation, self-reliant and self-assured. Isn’t this incorrect?\n",
        "               I have a third vision. India must stand up to the world. Because I believe that unless India \n",
        "               stands up to the world, no one will respect us. Only strength respects strength. We must be \n",
        "               strong not only as a military power but also as an economic power. Both must go hand-in-hand. \n",
        "               My good fortune was to have worked with three great minds. Dr. Vikram Sarabhai of the Dept. of \n",
        "               space, Professor Satish Dhawan, who succeeded him and Dr. Brahm Prakash, father of nuclear material.\n",
        "               I was lucky to have worked with all three of them closely and consider this the great opportunity of my life. \n",
        "               I see four milestones in my career\"\"\"\n",
        "\n",
        "\n"
      ],
      "execution_count": 4,
      "outputs": []
    },
    {
      "cell_type": "code",
      "metadata": {
        "id": "az2Tinn5BP09"
      },
      "source": [
        "text = re.sub(r'\\[[0-9]*\\]',' ',paragraph)\n",
        "text = re.sub(r'\\s+',' ',text)\n",
        "text = text.lower()\n",
        "text = re.sub(r'\\d',' ',text)\n",
        "text = re.sub(r'\\s+',' ',text)"
      ],
      "execution_count": 5,
      "outputs": []
    },
    {
      "cell_type": "code",
      "metadata": {
        "colab": {
          "base_uri": "https://localhost:8080/",
          "height": 0
        },
        "id": "VrFTR9j4Cjq5",
        "outputId": "3f35e0e8-c2c8-4886-b4e5-9f62b8464f92"
      },
      "source": [
        "import nltk\n",
        "nltk.download('punkt')\n"
      ],
      "execution_count": 8,
      "outputs": [
        {
          "output_type": "stream",
          "name": "stdout",
          "text": [
            "[nltk_data] Downloading package punkt to /root/nltk_data...\n",
            "[nltk_data]   Unzipping tokenizers/punkt.zip.\n"
          ]
        },
        {
          "output_type": "execute_result",
          "data": {
            "text/plain": [
              "True"
            ]
          },
          "metadata": {},
          "execution_count": 8
        }
      ]
    },
    {
      "cell_type": "code",
      "metadata": {
        "id": "dqgtqSIWBUP-"
      },
      "source": [
        "sentences = nltk.sent_tokenize(text)\n",
        "\n",
        "sentences = [nltk.word_tokenize(sentence) for sentence in sentences]\n"
      ],
      "execution_count": 9,
      "outputs": []
    },
    {
      "cell_type": "code",
      "metadata": {
        "id": "Ezq7hIdLC3Gn"
      },
      "source": [
        " from nltk.corpus import stopwords"
      ],
      "execution_count": 11,
      "outputs": []
    },
    {
      "cell_type": "code",
      "metadata": {
        "colab": {
          "base_uri": "https://localhost:8080/",
          "height": 0
        },
        "id": "uq0yiy16DGux",
        "outputId": "caac1cf7-a4a0-4dee-9e8e-ab7a7c86edef"
      },
      "source": [
        "nltk.download(\"stopwords\")"
      ],
      "execution_count": 14,
      "outputs": [
        {
          "output_type": "stream",
          "name": "stdout",
          "text": [
            "[nltk_data] Downloading package stopwords to /root/nltk_data...\n",
            "[nltk_data]   Unzipping corpora/stopwords.zip.\n"
          ]
        },
        {
          "output_type": "execute_result",
          "data": {
            "text/plain": [
              "True"
            ]
          },
          "metadata": {},
          "execution_count": 14
        }
      ]
    },
    {
      "cell_type": "code",
      "metadata": {
        "id": "fj_E89KzCmkx"
      },
      "source": [
        "for i in range(len(sentences)):\n",
        "    sentences[i] = [word for word in sentences[i] if word not in stopwords.words('english')]"
      ],
      "execution_count": 15,
      "outputs": []
    },
    {
      "cell_type": "code",
      "metadata": {
        "id": "VdB1bwJRDRiC"
      },
      "source": [
        "model = Word2Vec(sentences, min_count=1)"
      ],
      "execution_count": 16,
      "outputs": []
    },
    {
      "cell_type": "code",
      "metadata": {
        "colab": {
          "base_uri": "https://localhost:8080/"
        },
        "id": "gHTEJBuTJsQe",
        "outputId": "3a8a32bc-243e-40d1-e8f8-bb59a7016025"
      },
      "source": [
        "model"
      ],
      "execution_count": 23,
      "outputs": [
        {
          "output_type": "execute_result",
          "data": {
            "text/plain": [
              "<gensim.models.word2vec.Word2Vec at 0x7fe9fe33aed0>"
            ]
          },
          "metadata": {},
          "execution_count": 23
        }
      ]
    },
    {
      "cell_type": "code",
      "metadata": {
        "id": "Un4zhZ7aDWqj"
      },
      "source": [
        "words = model.wv.vocab"
      ],
      "execution_count": 17,
      "outputs": []
    },
    {
      "cell_type": "code",
      "metadata": {
        "colab": {
          "base_uri": "https://localhost:8080/"
        },
        "id": "Prk1y5Z3JpTq",
        "outputId": "abcbad50-7105-4a96-987f-5f0a4ea6a625"
      },
      "source": [
        "words"
      ],
      "execution_count": 22,
      "outputs": [
        {
          "output_type": "execute_result",
          "data": {
            "text/plain": [
              "{',': <gensim.models.keyedvectors.Vocab at 0x7fe9fe33a890>,\n",
              " '.': <gensim.models.keyedvectors.Vocab at 0x7fe9fe33a350>,\n",
              " '?': <gensim.models.keyedvectors.Vocab at 0x7fe9fe33d9d0>,\n",
              " 'achievements': <gensim.models.keyedvectors.Vocab at 0x7fe9fdc780d0>,\n",
              " 'alexander': <gensim.models.keyedvectors.Vocab at 0x7fe9fe33a4d0>,\n",
              " 'also': <gensim.models.keyedvectors.Vocab at 0x7fe9fdc78150>,\n",
              " 'among': <gensim.models.keyedvectors.Vocab at 0x7fe9fe3413d0>,\n",
              " 'anyone': <gensim.models.keyedvectors.Vocab at 0x7fe9fe33d390>,\n",
              " 'areas': <gensim.models.keyedvectors.Vocab at 0x7fe9fe3407d0>,\n",
              " 'believe': <gensim.models.keyedvectors.Vocab at 0x7fe9fe33d1d0>,\n",
              " 'brahm': <gensim.models.keyedvectors.Vocab at 0x7fe9fe33fa90>,\n",
              " 'british': <gensim.models.keyedvectors.Vocab at 0x7fe9fe33db50>,\n",
              " 'build': <gensim.models.keyedvectors.Vocab at 0x7fe9fe3411d0>,\n",
              " 'came': <gensim.models.keyedvectors.Vocab at 0x7fe9fe33d050>,\n",
              " 'captured': <gensim.models.keyedvectors.Vocab at 0x7fe9fe33a590>,\n",
              " 'career': <gensim.models.keyedvectors.Vocab at 0x7fe9fe33d8d0>,\n",
              " 'closely': <gensim.models.keyedvectors.Vocab at 0x7fe9fe33ff10>,\n",
              " 'come': <gensim.models.keyedvectors.Vocab at 0x7fe9fe33ad10>,\n",
              " 'conquered': <gensim.models.keyedvectors.Vocab at 0x7fe9fe33aa50>,\n",
              " 'consider': <gensim.models.keyedvectors.Vocab at 0x7fe9fe33f210>,\n",
              " 'culture': <gensim.models.keyedvectors.Vocab at 0x7fe9fe33d090>,\n",
              " 'dept': <gensim.models.keyedvectors.Vocab at 0x7fe9fdc78f50>,\n",
              " 'developed': <gensim.models.keyedvectors.Vocab at 0x7fe9fe341110>,\n",
              " 'developing': <gensim.models.keyedvectors.Vocab at 0x7fe9fe341210>,\n",
              " 'development': <gensim.models.keyedvectors.Vocab at 0x7fe9fe3414d0>,\n",
              " 'dhawan': <gensim.models.keyedvectors.Vocab at 0x7fe9fdc78f90>,\n",
              " 'done': <gensim.models.keyedvectors.Vocab at 0x7fe9fe33da10>,\n",
              " 'dr.': <gensim.models.keyedvectors.Vocab at 0x7fe9fdc78e10>,\n",
              " 'dutch': <gensim.models.keyedvectors.Vocab at 0x7fe9fe33dcd0>,\n",
              " 'economic': <gensim.models.keyedvectors.Vocab at 0x7fe9fdc78090>,\n",
              " 'enforce': <gensim.models.keyedvectors.Vocab at 0x7fe9fe33dc90>,\n",
              " 'falling': <gensim.models.keyedvectors.Vocab at 0x7fe9fe340e10>,\n",
              " 'father': <gensim.models.keyedvectors.Vocab at 0x7fe9fe33f990>,\n",
              " 'fifty': <gensim.models.keyedvectors.Vocab at 0x7fe9fe341350>,\n",
              " 'first': <gensim.models.keyedvectors.Vocab at 0x7fe9fe33db90>,\n",
              " 'fortune': <gensim.models.keyedvectors.Vocab at 0x7fe9fdc78d10>,\n",
              " 'four': <gensim.models.keyedvectors.Vocab at 0x7fe9fe33f350>,\n",
              " 'free': <gensim.models.keyedvectors.Vocab at 0x7fe9fe3412d0>,\n",
              " 'freedom': <gensim.models.keyedvectors.Vocab at 0x7fe9fe33d3d0>,\n",
              " 'french': <gensim.models.keyedvectors.Vocab at 0x7fe9fe33d2d0>,\n",
              " 'gdp': <gensim.models.keyedvectors.Vocab at 0x7fe9fe340f90>,\n",
              " 'globally': <gensim.models.keyedvectors.Vocab at 0x7fe9fdc78210>,\n",
              " 'go': <gensim.models.keyedvectors.Vocab at 0x7fe9fdc78050>,\n",
              " 'good': <gensim.models.keyedvectors.Vocab at 0x7fe9fdc78590>,\n",
              " 'got': <gensim.models.keyedvectors.Vocab at 0x7fe9fe33d410>,\n",
              " 'grabbed': <gensim.models.keyedvectors.Vocab at 0x7fe9fe33d290>,\n",
              " 'great': <gensim.models.keyedvectors.Vocab at 0x7fe9fdc78d90>,\n",
              " 'greeks': <gensim.models.keyedvectors.Vocab at 0x7fe9fe33af90>,\n",
              " 'growth': <gensim.models.keyedvectors.Vocab at 0x7fe9fe340990>,\n",
              " 'hand-in-hand': <gensim.models.keyedvectors.Vocab at 0x7fe9fdc78690>,\n",
              " 'history': <gensim.models.keyedvectors.Vocab at 0x7fe9fe33ac10>,\n",
              " 'incorrect': <gensim.models.keyedvectors.Vocab at 0x7fe9fdc784d0>,\n",
              " 'independence': <gensim.models.keyedvectors.Vocab at 0x7fe9fe33dd50>,\n",
              " 'india': <gensim.models.keyedvectors.Vocab at 0x7fe9fe33af10>,\n",
              " 'invaded': <gensim.models.keyedvectors.Vocab at 0x7fe9fe33ad90>,\n",
              " 'lack': <gensim.models.keyedvectors.Vocab at 0x7fe9fdc78450>,\n",
              " 'land': <gensim.models.keyedvectors.Vocab at 0x7fe9fe33d450>,\n",
              " 'lands': <gensim.models.keyedvectors.Vocab at 0x7fe9fe33a910>,\n",
              " 'levels': <gensim.models.keyedvectors.Vocab at 0x7fe9fe3408d0>,\n",
              " 'life': <gensim.models.keyedvectors.Vocab at 0x7fe9fe33de50>,\n",
              " 'looted': <gensim.models.keyedvectors.Vocab at 0x7fe9fe33d690>,\n",
              " 'lucky': <gensim.models.keyedvectors.Vocab at 0x7fe9fe33f810>,\n",
              " 'material': <gensim.models.keyedvectors.Vocab at 0x7fe9fe33f5d0>,\n",
              " 'milestones': <gensim.models.keyedvectors.Vocab at 0x7fe9fe33fcd0>,\n",
              " 'military': <gensim.models.keyedvectors.Vocab at 0x7fe9fdc78190>,\n",
              " 'minds': <gensim.models.keyedvectors.Vocab at 0x7fe9fe33acd0>,\n",
              " 'moguls': <gensim.models.keyedvectors.Vocab at 0x7fe9fe33d150>,\n",
              " 'must': <gensim.models.keyedvectors.Vocab at 0x7fe9fe33df90>,\n",
              " 'nation': <gensim.models.keyedvectors.Vocab at 0x7fe9fe33da90>,\n",
              " 'nations': <gensim.models.keyedvectors.Vocab at 0x7fe9fe3400d0>,\n",
              " 'nuclear': <gensim.models.keyedvectors.Vocab at 0x7fe9fe33f0d0>,\n",
              " 'nurture': <gensim.models.keyedvectors.Vocab at 0x7fe9fe341650>,\n",
              " 'one': <gensim.models.keyedvectors.Vocab at 0x7fe9fe341150>,\n",
              " 'onwards': <gensim.models.keyedvectors.Vocab at 0x7fe9fe33a610>,\n",
              " 'opportunity': <gensim.models.keyedvectors.Vocab at 0x7fe9fe33f090>,\n",
              " 'others.that': <gensim.models.keyedvectors.Vocab at 0x7fe9fe33d510>,\n",
              " 'people': <gensim.models.keyedvectors.Vocab at 0x7fe9fe33af50>,\n",
              " 'percent': <gensim.models.keyedvectors.Vocab at 0x7fe9fe3401d0>,\n",
              " 'portuguese': <gensim.models.keyedvectors.Vocab at 0x7fe9fe33d110>,\n",
              " 'poverty': <gensim.models.keyedvectors.Vocab at 0x7fe9fe340cd0>,\n",
              " 'power': <gensim.models.keyedvectors.Vocab at 0x7fe9fdc781d0>,\n",
              " 'prakash': <gensim.models.keyedvectors.Vocab at 0x7fe9fe33f9d0>,\n",
              " 'professor': <gensim.models.keyedvectors.Vocab at 0x7fe9fdc785d0>,\n",
              " 'protect': <gensim.models.keyedvectors.Vocab at 0x7fe9fe33df50>,\n",
              " 'rate': <gensim.models.keyedvectors.Vocab at 0x7fe9fe340890>,\n",
              " 'recognised': <gensim.models.keyedvectors.Vocab at 0x7fe9fdc78290>,\n",
              " 'respect': <gensim.models.keyedvectors.Vocab at 0x7fe9fe33d710>,\n",
              " 'respects': <gensim.models.keyedvectors.Vocab at 0x7fe9fdc78250>,\n",
              " 'sarabhai': <gensim.models.keyedvectors.Vocab at 0x7fe9fdc78ed0>,\n",
              " 'satish': <gensim.models.keyedvectors.Vocab at 0x7fe9fdc78f10>,\n",
              " 'second': <gensim.models.keyedvectors.Vocab at 0x7fe9fe341690>,\n",
              " 'see': <gensim.models.keyedvectors.Vocab at 0x7fe9fe341290>,\n",
              " 'self-assured': <gensim.models.keyedvectors.Vocab at 0x7fe9fdc78510>,\n",
              " 'self-confidence': <gensim.models.keyedvectors.Vocab at 0x7fe9fdc78550>,\n",
              " 'self-reliant': <gensim.models.keyedvectors.Vocab at 0x7fe9fdc78490>,\n",
              " 'space': <gensim.models.keyedvectors.Vocab at 0x7fe9fdc78d50>,\n",
              " 'stand': <gensim.models.keyedvectors.Vocab at 0x7fe9fdc78390>,\n",
              " 'stands': <gensim.models.keyedvectors.Vocab at 0x7fe9fdc78350>,\n",
              " 'started': <gensim.models.keyedvectors.Vocab at 0x7fe9fe33d610>,\n",
              " 'strength': <gensim.models.keyedvectors.Vocab at 0x7fe9fdc782d0>,\n",
              " 'strong': <gensim.models.keyedvectors.Vocab at 0x7fe9fdc78110>,\n",
              " 'succeeded': <gensim.models.keyedvectors.Vocab at 0x7fe9fe33fdd0>,\n",
              " 'terms': <gensim.models.keyedvectors.Vocab at 0x7fe9fe340310>,\n",
              " 'third': <gensim.models.keyedvectors.Vocab at 0x7fe9fdc78310>,\n",
              " 'three': <gensim.models.keyedvectors.Vocab at 0x7fe9fe33a310>,\n",
              " 'time': <gensim.models.keyedvectors.Vocab at 0x7fe9fe341410>,\n",
              " 'today': <gensim.models.keyedvectors.Vocab at 0x7fe9fdc78410>,\n",
              " 'took': <gensim.models.keyedvectors.Vocab at 0x7fe9fe33d790>,\n",
              " 'top': <gensim.models.keyedvectors.Vocab at 0x7fe9fe341510>,\n",
              " 'tried': <gensim.models.keyedvectors.Vocab at 0x7fe9fe33d910>,\n",
              " 'turks': <gensim.models.keyedvectors.Vocab at 0x7fe9fe33df10>,\n",
              " 'unless': <gensim.models.keyedvectors.Vocab at 0x7fe9fdc783d0>,\n",
              " 'us': <gensim.models.keyedvectors.Vocab at 0x7fe9fe33ab10>,\n",
              " 'vikram': <gensim.models.keyedvectors.Vocab at 0x7fe9fdc78fd0>,\n",
              " 'vision': <gensim.models.keyedvectors.Vocab at 0x7fe9fe33dc50>,\n",
              " 'visions': <gensim.models.keyedvectors.Vocab at 0x7fe9fe33ac90>,\n",
              " 'war': <gensim.models.keyedvectors.Vocab at 0x7fe9fe33d810>,\n",
              " 'way': <gensim.models.keyedvectors.Vocab at 0x7fe9fe33d190>,\n",
              " 'worked': <gensim.models.keyedvectors.Vocab at 0x7fe9fdc78e90>,\n",
              " 'world': <gensim.models.keyedvectors.Vocab at 0x7fe9fe33a450>,\n",
              " 'years': <gensim.models.keyedvectors.Vocab at 0x7fe9fe33a7d0>,\n",
              " 'yet': <gensim.models.keyedvectors.Vocab at 0x7fe9fe33d4d0>,\n",
              " '’': <gensim.models.keyedvectors.Vocab at 0x7fe9fe341750>}"
            ]
          },
          "metadata": {},
          "execution_count": 22
        }
      ]
    },
    {
      "cell_type": "code",
      "metadata": {
        "id": "zSEctGoKDaS9"
      },
      "source": [
        "vector = model.wv['war']"
      ],
      "execution_count": 18,
      "outputs": []
    },
    {
      "cell_type": "code",
      "metadata": {
        "colab": {
          "base_uri": "https://localhost:8080/"
        },
        "id": "7zsLHqgAJl0N",
        "outputId": "db1a8323-71a5-4fa4-8910-709faa35bd66"
      },
      "source": [
        "vector"
      ],
      "execution_count": 21,
      "outputs": [
        {
          "output_type": "execute_result",
          "data": {
            "text/plain": [
              "array([ 4.8429691e-03, -2.6622810e-03, -3.2301829e-03,  1.7815308e-03,\n",
              "       -4.4817594e-03, -2.3677251e-03, -1.7651885e-03,  3.4350965e-03,\n",
              "        3.3297907e-03,  2.6970503e-03,  4.5344478e-04, -3.9891275e-03,\n",
              "        2.5950018e-03,  2.2684529e-03, -3.4813939e-03,  1.3511496e-03,\n",
              "       -4.4302875e-03,  2.2448115e-03, -2.5179444e-03, -3.7538816e-04,\n",
              "        2.8858669e-03,  2.3132921e-03,  2.6192907e-03,  4.1020790e-04,\n",
              "        2.7455632e-03, -8.9095888e-04,  2.9205233e-03,  2.8427672e-03,\n",
              "        1.5121764e-03,  4.6911850e-03,  4.9177734e-03,  3.6929939e-03,\n",
              "        4.8466832e-03,  3.3813862e-03, -3.3075020e-03,  6.1863346e-04,\n",
              "        2.2725738e-03,  2.6695398e-03,  5.9230940e-04, -4.7253044e-03,\n",
              "        2.3923537e-03, -4.4727032e-03,  4.5227758e-03, -2.3010480e-03,\n",
              "       -1.9872137e-03,  4.5407345e-03, -1.7125839e-03,  2.9353881e-03,\n",
              "        4.2447919e-04,  3.0834737e-04, -5.2818254e-04, -3.8727606e-03,\n",
              "        3.8146931e-03, -3.9800485e-03,  1.1830366e-03, -4.8555573e-03,\n",
              "        1.8821079e-03, -1.7036253e-03, -7.4984587e-04,  3.2960917e-03,\n",
              "       -3.3964210e-03,  4.4590798e-03, -2.0075315e-03, -3.8516277e-03,\n",
              "       -5.6437875e-05,  6.1728460e-05,  4.3820981e-03, -4.8503716e-04,\n",
              "        3.7193990e-03, -9.5417676e-04, -1.7657904e-03,  1.6141760e-03,\n",
              "       -3.6785274e-04, -2.0591773e-03,  3.9351275e-03, -2.5681588e-03,\n",
              "       -3.3329776e-03, -3.0799340e-03, -2.8781274e-03, -9.9956931e-04,\n",
              "        4.7628433e-03, -4.8862380e-04,  8.5151376e-05, -2.5019401e-03,\n",
              "       -3.6085753e-03, -3.1942462e-03, -2.9257345e-03, -2.1345816e-03,\n",
              "        4.5143301e-03, -2.0400267e-03, -3.5434086e-03,  2.9722345e-03,\n",
              "        2.3291351e-03, -2.0725843e-03, -3.1999869e-03, -5.7388996e-05,\n",
              "        1.9728192e-03,  8.3410466e-04,  2.9990163e-03,  8.1002450e-04],\n",
              "      dtype=float32)"
            ]
          },
          "metadata": {},
          "execution_count": 21
        }
      ]
    },
    {
      "cell_type": "code",
      "metadata": {
        "id": "vtTWWXPwDfIo"
      },
      "source": [
        "similar = model.wv.most_similar('vikram')"
      ],
      "execution_count": 19,
      "outputs": []
    },
    {
      "cell_type": "code",
      "metadata": {
        "colab": {
          "base_uri": "https://localhost:8080/"
        },
        "id": "ep3ftxIrJSGT",
        "outputId": "26c7cbf6-a0a1-442c-d2dc-4f23a1448923"
      },
      "source": [
        "similar"
      ],
      "execution_count": 20,
      "outputs": [
        {
          "output_type": "execute_result",
          "data": {
            "text/plain": [
              "[('good', 0.2030785083770752),\n",
              " ('stand', 0.19646602869033813),\n",
              " ('power', 0.1910971701145172),\n",
              " ('worked', 0.18829688429832458),\n",
              " ('lucky', 0.1882885992527008),\n",
              " ('professor', 0.1858425885438919),\n",
              " ('grabbed', 0.18330490589141846),\n",
              " ('top', 0.18043717741966248),\n",
              " ('took', 0.1667446345090866),\n",
              " ('british', 0.15817177295684814)]"
            ]
          },
          "metadata": {},
          "execution_count": 20
        }
      ]
    },
    {
      "cell_type": "code",
      "metadata": {
        "id": "s2_DErKIJ2W8"
      },
      "source": [
        ""
      ],
      "execution_count": null,
      "outputs": []
    }
  ]
}